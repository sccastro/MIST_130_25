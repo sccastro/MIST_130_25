{
 "cells": [
  {
   "cell_type": "markdown",
   "id": "4ac56256-f2c1-4da9-bd27-faf733cea698",
   "metadata": {},
   "source": [
    "# 03 Challenges"
   ]
  },
  {
   "cell_type": "markdown",
   "id": "b5fcda23-604f-42ac-89f4-4b60d78e1d74",
   "metadata": {},
   "source": [
    "## Extracting rows\n",
    "\n",
    "One thing we always want to do is extract rows based on some criteria.\n",
    "For example, in Reaction Time data we often trim the early responses as\n",
    "anticipatory, and the late responses as outliers.\n",
    "\n",
    "**Challenge 1**: Find and remove the rows with NAs, save it out to\n",
    "\"newdf\"\n"
   ]
  },
  {
   "cell_type": "code",
   "execution_count": 8,
   "id": "ca613d63-02d3-4556-b048-78233e25a053",
   "metadata": {},
   "outputs": [
    {
     "ename": "ERROR",
     "evalue": "Error in eval(expr, envir, enclos): '...' used in an incorrect context\n",
     "output_type": "error",
     "traceback": [
      "Error in eval(expr, envir, enclos): '...' used in an incorrect context\nTraceback:\n"
     ]
    }
   ],
   "source": [
    "\n",
    "newdf <- ...\n",
    "\n",
    "head(newdf)"
   ]
  },
  {
   "cell_type": "markdown",
   "id": "33b9e4a6-7569-4bbc-90dc-e0de33ad60d8",
   "metadata": {},
   "source": [
    "**Challenge 2**: Filter out RT's below 150 milliseconds and show how\n",
    "many you've filtered out.\n",
    "\n"
   ]
  },
  {
   "cell_type": "code",
   "execution_count": null,
   "id": "9c496625-df38-4b59-9398-27af6e8e4170",
   "metadata": {},
   "outputs": [],
   "source": [
    "\n",
    "newdf %>%\n",
    "  filter(...) %>%\n",
    "  summarise(...)\n",
    "\n"
   ]
  },
  {
   "cell_type": "markdown",
   "id": "ee158688-3078-40da-bd53-03cc72455e9b",
   "metadata": {},
   "source": [
    "\n",
    "**Challenge 3**: Get the number of observations (rows) kept and removed\n",
    "with <code>group_by()</code>\n"
   ]
  },
  {
   "cell_type": "code",
   "execution_count": null,
   "id": "ae676e49-2cd0-44c3-8469-f44bda49ccb3",
   "metadata": {},
   "outputs": [],
   "source": [
    "\n",
    "\n",
    "newdf %>%\n",
    "  group_by(...) %>%\n",
    "  summarise(...)\n",
    "\n"
   ]
  },
  {
   "cell_type": "markdown",
   "id": "9afdc313-88bc-42be-8ee7-ac01204d9089",
   "metadata": {},
   "source": [
    "In papers, you want to report the proportion of data you have removed\n",
    "and the criteria with which you removed that data.\n",
    "\n",
    "Now you have the slow responses, but a more appropriate standard might\n",
    "be removing data above three standard deviations from the mean for each\n",
    "participant's own distribution. Let's try that now...\n"
   ]
  },
  {
   "cell_type": "code",
   "execution_count": null,
   "id": "b1e106d7-224d-4b82-bcf8-3746ef85e608",
   "metadata": {},
   "outputs": [],
   "source": [
    "\n",
    "newdf %>% #Step 1 is to group by the subject and get the mean and sd\n",
    "  group_by(s) %>%\n",
    "  mutate(mRT = mean(RT), RTsd = sd(RT))\n",
    "\n",
    "newdf %>% #Step 2 is to make a cutoff 3 standard deviations above the mean for each participant\n",
    "  group_by(s) %>%\n",
    "  mutate(mRT = mean(RT), RTsd = sd(RT)) %>%\n",
    "  mutate(cutoff = mRT + 3*RTsd)\n",
    "\n",
    "\n",
    "newdf %>% #Step 3 Let's clean up the columns we need and the ones we don't\n",
    "  group_by(s) %>%\n",
    "  mutate(mRT = mean(RT), RTsd = sd(RT)) %>%\n",
    "  mutate(cutoff = mRT + 3*RTsd) %>%\n",
    "  select(-mRT, -RTsd)\n",
    "\n",
    "\n",
    "newdf %>% #Step 4 Now let's filter those RTs above the cutoff and count them\n",
    "  group_by(s) %>%\n",
    "  mutate(mRT = mean(RT), RTsd = sd(RT)) %>%\n",
    "  mutate(cutoff = mRT + 3*RTsd) %>%\n",
    "  select(-mRT, -RTsd) %>%\n",
    "  filter(RT > cutoff) %>%\n",
    "  summarise(n = n()) %>% #spread it out so its easy to read\n",
    "  pivot_wider(names_from = s, values_from = n)\n",
    "\n",
    "\n",
    "newdf %>% #We can see the proportion of removed data\n",
    "  group_by(s) %>%\n",
    "  mutate(mRT = mean(RT), RTsd = sd(RT)) %>%\n",
    "  mutate(cutoff = mRT + 3*RTsd) %>%\n",
    "  select(-mRT, -RTsd) %>%\n",
    "  group_by(RT > cutoff | RT < 150) %>%\n",
    "  summarise(n = n()) %>%\n",
    "  mutate(prop = (n/sum(n))*100)\n",
    "\n",
    "dfclean <- newdf %>% #Save it out as dfclean\n",
    "  group_by(s) %>%\n",
    "  mutate(mRT = mean(RT), RTsd = sd(RT)) %>%\n",
    "  mutate(cutoff = mRT + 3*RTsd) %>%\n",
    "  select(-mRT, -RTsd) %>%\n",
    "  filter(RT < cutoff & RT > 150) #The RTs must be less than the cutoff AND greater than 150 ms\n",
    "\n"
   ]
  },
  {
   "cell_type": "markdown",
   "id": "867f6ebd-ed63-46f2-b693-e499d3e435e7",
   "metadata": {},
   "source": [
    "Now we're ready to do some descriptive statistics with the groups\n",
    "\n",
    "**Challenge 4**: What is the mean reaction time and standard deviation\n",
    "for congruent vs incongruent trials\n",
    "\n"
   ]
  },
  {
   "cell_type": "code",
   "execution_count": null,
   "id": "3a5c5c18-77fd-4db8-b1e8-8d9160c2632c",
   "metadata": {},
   "outputs": [],
   "source": [
    "\n",
    "#hint group_by(the factor you're interested in)\n",
    "dfclean %>%\n",
    "  group_by(...) %>%\n",
    "  summarise(...)\n",
    "\n"
   ]
  },
  {
   "cell_type": "markdown",
   "id": "676c77f7-a407-4a90-9e89-3cc402fbc29c",
   "metadata": {},
   "source": [
    "**Challenge 5**: Get the mean and sd of participant means for congruent\n",
    "vs incongruent trials and compare to the previous outcome.\n",
    "\n"
   ]
  },
  {
   "cell_type": "code",
   "execution_count": null,
   "id": "703e0c4e-75ec-4ba8-a0ef-d63b89176f1b",
   "metadata": {},
   "outputs": [],
   "source": [
    "\n",
    "dfclean %>%\n",
    "  group_by(...) %>%\n",
    "  summarise(...) %>%\n",
    "  group_by(...) %>%\n",
    "  summarise(..., ...)\n"
   ]
  },
  {
   "cell_type": "markdown",
   "id": "34269100-62ff-4622-ac8a-c9ccb579e259",
   "metadata": {},
   "source": [
    "This is a quirk of repeated measures fully within designs, as the levels\n",
    "of analysis are nested. More on that later. We can quickly visualize\n",
    "some of these things, like the distribution of responses in base R.\n",
    "Note: Soon we will learn to visualize everything in ggplot2.\n"
   ]
  },
  {
   "cell_type": "code",
   "execution_count": null,
   "id": "55772c13-9ddd-4d64-a655-0ad9339ce479",
   "metadata": {},
   "outputs": [],
   "source": [
    "\n",
    "hist(dfclean$RT, breaks = 100)\n",
    "\n",
    "#Add a line for the mean\n",
    "hist(dfclean$RT, breaks = 100)\n",
    "abline(v = mean(dfclean$RT),\n",
    "       col = \"red\",\n",
    "       lwd = 2)\n",
    "#add a line for the median\n",
    "abline(v = median(dfclean$RT),\n",
    "       col = \"blue\",\n",
    "       lwd = 3)\n",
    "lines(density(dfclean$RT),\n",
    "      lwd = 2, # thickness of line\n",
    "      col = \"chocolate3\")# density plot\n",
    "\n",
    "#Add a density plot,\n",
    "hist(dfclean$RT, breaks = 100,\n",
    "     prob = T)\n",
    "lines(density(dfclean$RT),\n",
    "      lwd = 2, # thickness of line\n",
    "      col = \"chocolate3\")# density plot\n",
    "abline(v = mean(dfclean$RT),\n",
    "       col = \"red\",\n",
    "       lwd = 2)\n",
    "#add a line for the median\n",
    "abline(v = median(dfclean$RT),\n",
    "       col = \"blue\",\n",
    "       lwd = 3)\n",
    "\n",
    "legend(x = \"topright\", # location of legend within plot area\n",
    "       c(\"Density plot\", \"Mean\", \"Median\"),\n",
    "       col = c(\"chocolate3\", \"red\", \"blue\"),\n",
    "       lwd = c(2, 2, 3))\n",
    "\n",
    "\n",
    "\n"
   ]
  },
  {
   "cell_type": "markdown",
   "id": "28aa2da9-9742-4afe-8d74-89e847b9c120",
   "metadata": {},
   "source": [
    "## Pivoting, Separating and Uniting\n",
    "\n",
    "look at this <code>tibble(data.frame)</code>\n"
   ]
  },
  {
   "cell_type": "code",
   "execution_count": null,
   "id": "51da0f83-be18-45a1-b74a-c699a240f79b",
   "metadata": {},
   "outputs": [],
   "source": [
    "\n",
    "stocks <- tibble(\n",
    "  year   = c(2015, 2015, 2016, 2016),\n",
    "  half  = c(   1,    2,     1,    2),\n",
    "  return = c(1.88, 0.59, 0.92, 0.17)\n",
    ")\n",
    "\n"
   ]
  },
  {
   "cell_type": "markdown",
   "id": "0943e76f-5e3f-4247-9ddc-bf8fd3d96ae3",
   "metadata": {},
   "source": [
    "<code>pivot_longer</code> and\n",
    "<code>pivot_wider</code> are not opposites.\n",
    "\n",
    "\n",
    "\n"
   ]
  },
  {
   "cell_type": "code",
   "execution_count": null,
   "id": "8fc6025c-c87c-4d02-989f-930e806b62f8",
   "metadata": {},
   "outputs": [],
   "source": [
    "\n",
    "\n",
    "stocks %>%\n",
    "  pivot_wider(names_from = \"year\",values_from = \"return\") %>%\n",
    "  pivot_longer(cols = `2015`:`2016`,names_to = \"year\")\n",
    "\n",
    "\n",
    "\n"
   ]
  },
  {
   "cell_type": "markdown",
   "id": "253b9246-a3ee-4c82-b515-b93b687c1c95",
   "metadata": {},
   "source": [
    "\n",
    "You can make data.frames with space using the <code>tribble()</code>\n",
    "function\n",
    "\n"
   ]
  },
  {
   "cell_type": "code",
   "execution_count": null,
   "id": "3e2ec172-478a-4b11-a934-620d328187ec",
   "metadata": {},
   "outputs": [],
   "source": [
    "```{r tribble}\n",
    "people <- tribble(\n",
    "  ~name,             ~key,    ~value,\n",
    "  #-----------------|--------|------\n",
    "  \"Phillip Woods\",   \"age\",       45,\n",
    "  \"Phillip Woods\",   \"height\",   186,\n",
    "  \"Jessica Cordero\", \"age\",       37,\n",
    "  \"Jessica Cordero\", \"height\",   156\n",
    ")\n",
    "\n",
    "people\n",
    "\n",
    "```\n"
   ]
  },
  {
   "cell_type": "markdown",
   "id": "997c4464-fe38-4556-b2e7-eedde6bd1d5c",
   "metadata": {},
   "source": [
    "**Challenge 6**: spread people so height and age have their own column\n",
    "\n"
   ]
  },
  {
   "cell_type": "code",
   "execution_count": null,
   "id": "8b381ceb-2fcd-4234-a553-e73276d18a89",
   "metadata": {},
   "outputs": [],
   "source": [
    "\n",
    "\n",
    "newpeople <- people %>%\n",
    "  pivot_wider(...)\n",
    "\n",
    "\n"
   ]
  },
  {
   "cell_type": "markdown",
   "id": "86c4fa8c-1e55-4f66-89e2-cc3a5a52ffa9",
   "metadata": {},
   "source": [
    "**Challenge 7**: gather newpeople so that height and age are back together\n",
    "\n"
   ]
  },
  {
   "cell_type": "code",
   "execution_count": null,
   "id": "0ca0980e-4d71-479b-b63a-ae708a5d1f02",
   "metadata": {},
   "outputs": [],
   "source": [
    "\n",
    "\n",
    "newpeople %>%\n",
    "  pivot_longer(...)\n",
    "\n"
   ]
  },
  {
   "cell_type": "markdown",
   "id": "c3764b00-7b57-478f-b644-721f33dbfaa8",
   "metadata": {},
   "source": [
    "You can separate or unite columns based upon a separator\n",
    "\n"
   ]
  },
  {
   "cell_type": "code",
   "execution_count": null,
   "id": "115d4410-01f8-4985-9023-b1d37e38071c",
   "metadata": {},
   "outputs": [],
   "source": [
    "\n",
    "people %>%\n",
    "  separate(name, into = c(\"first\",\"last\"))\n",
    "\n",
    "\n"
   ]
  },
  {
   "cell_type": "markdown",
   "id": "6d4d394d-a13c-4755-8540-d8d1a357e990",
   "metadata": {},
   "source": [
    "How did it know? We usually have to specify the separator\n",
    "\n"
   ]
  },
  {
   "cell_type": "code",
   "execution_count": null,
   "id": "3b1fb13d-a240-47ea-ab0c-3b848e6bb1c3",
   "metadata": {},
   "outputs": [],
   "source": [
    "\n",
    "weirdpeople <- people %>%\n",
    "  separate(name, into = c(\"befored\",\"afterd\"), sep = \"d\")\n",
    "\n",
    "\n"
   ]
  },
  {
   "cell_type": "markdown",
   "id": "c4383962-58c0-4de5-823e-86a19fe7f248",
   "metadata": {},
   "source": [
    "Notice that the separator disappears\n",
    "\n",
    "**Challenge 8**: Unite the two columns above with \"d\" as a separator\n",
    "\n"
   ]
  },
  {
   "cell_type": "code",
   "execution_count": null,
   "id": "aeb4561e-49b4-42aa-921d-d01d4f581332",
   "metadata": {},
   "outputs": [],
   "source": [
    "\n",
    "weirdpeople %>%\n",
    "  unite(...)\n",
    "\n"
   ]
  }
 ],
 "metadata": {
  "kernelspec": {
   "display_name": "R",
   "language": "R",
   "name": "ir"
  },
  "language_info": {
   "codemirror_mode": "r",
   "file_extension": ".r",
   "mimetype": "text/x-r-source",
   "name": "R",
   "pygments_lexer": "r",
   "version": "4.3.1"
  }
 },
 "nbformat": 4,
 "nbformat_minor": 5
}
